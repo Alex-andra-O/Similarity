{
 "cells": [
  {
   "cell_type": "code",
   "execution_count": 1,
   "metadata": {},
   "outputs": [],
   "source": [
    "# Import\n",
    "import logging\n",
    "import matplotlib.pyplot as plt\n",
    "import numpy as np\n",
    "import pandas as pd\n",
    "import seaborn as sns"
   ]
  },
  {
   "cell_type": "markdown",
   "metadata": {},
   "source": [
    "-------------------------------\n",
    "## Content\n",
    "[1. Similarity measures](#1.-Similarity-measures)\n",
    "\n",
    "[2. Simulations (Presented in Manuscript)](#2.-Simulations-(Presented-in-Manuscript))\n",
    "\n",
    "[3. Playing around with other simulations](#3.-Playing-around-with-other-simulations)\n"
   ]
  },
  {
   "cell_type": "markdown",
   "metadata": {},
   "source": [
    "-------------------------------\n",
    "### 1. Similarity measures"
   ]
  },
  {
   "cell_type": "code",
   "execution_count": 2,
   "metadata": {},
   "outputs": [],
   "source": [
    "def intersection(str1, str2):\n",
    "    return len(np.intersect1d(str1, str2))"
   ]
  },
  {
   "cell_type": "code",
   "execution_count": 17,
   "metadata": {},
   "outputs": [],
   "source": [
    "def pairedFreq(str2, str1):\n",
    "    #print('strings', str1, str2)\n",
    "    \n",
    "    # Transform to correct input format, if it isn't already a list or a numpy array\n",
    "    try:\n",
    "        str1 = str1.values.tolist()\n",
    "        str2 = str2.values.tolist()\n",
    "    except:\n",
    "        pass\n",
    "    \n",
    "    if len(str2) == 0:\n",
    "        return []\n",
    "    ob_freq = 0\n",
    "    for i in range(len(str2)-1):\n",
    "        p1 = str2[i]\n",
    "        p2 = str2[i+1]\n",
    "        if p1 in str1 and p2 in str1:\n",
    "            i1 = np.nonzero(np.array(str1) == p1)\n",
    "            i2 = np.nonzero(np.array(str1) == p2)\n",
    "            #print('i1, i2', i1, i2)\n",
    "            if abs(i1[0] - i2[0]) == 1:\n",
    "                ob_freq += 1\n",
    "                #print(ob_freq)\n",
    "    #print(str2)\n",
    "    #print(str1)\n",
    "    #print(\"ob_freq=\", ob_freq)\n",
    "    \n",
    "    if str2 == []:\n",
    "        return 0\n",
    "\n",
    "    \n",
    "    # This is the code from Christian\n",
    "    # num_common_items = len(final)\n",
    "    # \n",
    "    # num_common_items = np.intersect1d(final, orig)\n",
    "    # print(\"num_common_items=\", num_common_items)\n",
    "    # \n",
    "    # if type(num_common_items) == np.dtype(int):\n",
    "    #    num_common_items = 1\n",
    "    # else:\n",
    "    #    print(num_common_items)\n",
    "    #    num_common_items = len(num_common_items)\n",
    "\n",
    "    num_common_items = len(np.intersect1d(str1, str2)) #Alex New\n",
    "\n",
    "    exp_freq = (2*num_common_items*(num_common_items-1)) / float(len(str2)*len(str1))\n",
    "    #print(\"exp_freq=\", exp_freq)\n",
    "    PF = ob_freq - exp_freq\n",
    "    #print(\"PF=\", PF)\n",
    "    return PF"
   ]
  },
  {
   "cell_type": "code",
   "execution_count": 18,
   "metadata": {},
   "outputs": [],
   "source": [
    "def editdist(str1, str2, min_threshold = None):\n",
    "  #\"\"\"Return approximate string comparator measure (between 0.0 and 1.0)\n",
    "   #  using the edit (or Levenshtein) distance.\n",
    "\n",
    "#  USAGE:\n",
    "#    score = editdist(str1, str2, min_threshold)\n",
    "\n",
    "#  ARGUMENTS:\n",
    "#    str1           The first string\n",
    "#    str2           The second string\n",
    "#    min_threshold  Minimum threshold between 0 and 1\n",
    "#\n",
    "#  DESCRIPTION:\n",
    "#    The edit distance is the minimal number of insertions, deletions and\n",
    "#    substitutions needed to make two strings equal.#\n",
    "#\n",
    "#    For more information on the modified Soundex see:\n",
    "#    - http://www.nist.gov/dads/HTML/editdistance.html\n",
    "#  \"\"\"\n",
    "\n",
    "#  # Quick check if the strings are empty or the same - - - - - - - - - - - - -\n",
    "#  #\n",
    "#  #if (str1 == '') or (str2 == ''):\n",
    "    if (str1.size == 0) or (str2.size == 0):\n",
    "        return 0.0\n",
    "    #if len(str1) == len(str2) and len(str1) > 1 and all(str1 == str2):\n",
    "    #    return 1.0\n",
    "    #elif len(str1) == len(str2) and len(str1) == 1 and (str1 == str2):\n",
    "    #    return 1.0\n",
    "\n",
    "    n = len(str1)\n",
    "    m = len(str2)\n",
    "    max_len = max(n,m)\n",
    "\n",
    "    if (min_threshold != None):\n",
    "        if (isinstance(min_threshold, float)) and (min_threshold > 0.0) and (min_threshold > 0.0):\n",
    "\n",
    "            len_diff = abs(n-m)\n",
    "            w = 1.0 - float(len_diff) / float(max_len)\n",
    "\n",
    "            if (w  < min_threshold):\n",
    "                return 0.0  # Similariy is smaller than minimum threshold\n",
    "\n",
    "        else: # Calculate the maximum distance possible with this threshold\n",
    "            max_dist = (1.0-min_threshold)*max_len\n",
    "\n",
    "    else:\n",
    "        logging.exception('Illegal value for minimum threshold (not between' + \\\n",
    "                        ' 0 and 1): %f' % (min_threshold))\n",
    "        raise Exception\n",
    "\n",
    "    if (n > m):  # Make sure n <= m, to use O(min(n,m)) space\n",
    "        str1, str2 = str2, str1\n",
    "        n, m =       m, n\n",
    "\n",
    "    current = range(n+1)\n",
    "\n",
    "    for i in range(1, m+1):\n",
    "\n",
    "        previous = current\n",
    "        current =  [i]+n*[0]\n",
    "        str2char = str2[i-1]\n",
    "\n",
    "        for j in range(1,n+1):\n",
    "            substitute = previous[j-1]\n",
    "            if (str1[j-1] != str2char):\n",
    "                substitute += 1\n",
    "\n",
    "      # Get minimum of insert, delete and substitute\n",
    "      #\n",
    "            current[j] = min(previous[j]+1, current[j-1]+1, substitute)\n",
    "\n",
    "        if (min_threshold != None) and (min(current) > max_dist):\n",
    "            return 1.0 - float(max_dist+1) / float(max_len)\n",
    "\n",
    "    w = 1.0 - float(current[n]) / float(max_len)\n",
    "\n",
    "    assert (w >= 0.0) and (w <= 1.0), 'Similarity weight outside 0-1: %f' % (w)\n",
    "\n",
    "  # A log message - - - - - - - - - - - - - - - - - - - - - - - - - - - - - - -\n",
    "  #\n",
    "    logging.debug('Edit-distance comparator string \"%s\" with \"%s\" value: %.3f' \\\n",
    "                % (str1, str2, w))\n",
    "    return w"
   ]
  },
  {
   "cell_type": "markdown",
   "metadata": {},
   "source": [
    "### 2. Simulations (Presented in Manuscript)"
   ]
  },
  {
   "cell_type": "markdown",
   "metadata": {},
   "source": [
    "Want to show that PF is function of length of encoding list (proportional number of pairs but different length of list)"
   ]
  },
  {
   "cell_type": "code",
   "execution_count": 54,
   "metadata": {},
   "outputs": [
    {
     "data": {
      "image/png": "[encoded data removed]",
      "text/plain": [
       "<Figure size 432x288 with 1 Axes>"
      ]
     },
     "metadata": {
      "needs_background": "light"
     },
     "output_type": "display_data"
    }
   ],
   "source": [
    "# Increasing number of common items & list length\n",
    "PF = []\n",
    "PF_new = []\n",
    "ED = np.empty((0,1), int)\n",
    "EncodingItems = []\n",
    "value = []\n",
    "measure = []\n",
    "numberOfwords = 50\n",
    "for x in range(numberOfwords):\n",
    "    if x == 0:\n",
    "        str1 = [1,2]\n",
    "        str2 = [1,2]\n",
    "    else:\n",
    "        str1.append(x+2)\n",
    "        str2.append(x+2)\n",
    "    PF = (pairedFreq(str1, str2))\n",
    "    intersect = intersection(str1, str2)\n",
    "    str3 = np.array(str1)\n",
    "    str4 = np.array(str2)\n",
    "    addED = editdist(str3, str4, min_threshold = 0)\n",
    "    ED = np.append(ED, addED)\n",
    "    EncodingItems.append(x)\n",
    "    EncodingItems.append(x)\n",
    "    EncodingItems.append(x)\n",
    "    value.append(PF)\n",
    "    value.append(addED)\n",
    "    value.append(intersect)\n",
    "    measure.append('PF')\n",
    "    measure.append('ED')\n",
    "    measure.append('Intersection')\n",
    "    df = pd.DataFrame({'#EncodingItems':EncodingItems, 'value':value, 'measure':measure})\n",
    "df.to_csv('Similarity_Simulation1.csv')\n",
    "\n",
    "ax = sns.lineplot(x='#EncodingItems', y=value, hue=measure, data=df)\n",
    "\n",
    "#ax.set_xlim(0, 55)\n",
    "ax.tick_params(direction='inout', which='both', length=5, width=1, colors='black', left=True, bottom=True)\n",
    "ax.set_ylabel('Similarity Measure Value', labelpad=10, fontweight='bold')\n",
    "ax.set_xlabel('# of Additional, Common Items', labelpad=10, fontweight='bold')\n",
    "\n",
    "plt.legend(title='Similarity Measure', loc='upper left')\n",
    "#ax.set_title('Increasing # of Common Items in Same Order')\n",
    "plt.savefig('Similarity_Simulation1.png', dpi=600)"
   ]
  },
  {
   "cell_type": "code",
   "execution_count": 53,
   "metadata": {},
   "outputs": [
    {
     "data": {
      "image/png": "[encoded data removed]",
      "text/plain": [
       "<Figure size 432x288 with 1 Axes>"
      ]
     },
     "metadata": {
      "needs_background": "light"
     },
     "output_type": "display_data"
    }
   ],
   "source": [
    "# Increasing number of uncommon items & list length\n",
    "PF = []\n",
    "intersect = []\n",
    "ED = np.empty((0,1), int)\n",
    "EncodingItems = []\n",
    "value = []\n",
    "measure = []\n",
    "numberOfwords = 50\n",
    "for x in range(numberOfwords):\n",
    "    if x == 0:\n",
    "        str1 = [1,2]\n",
    "        str2 = [1,2]\n",
    "    else:\n",
    "        str1.append(x+2)\n",
    "        str2.append(x+52)\n",
    "\n",
    "    PF = (pairedFreq(str1, str2))\n",
    "    intersect = intersection(str1, str2)\n",
    "    str3 = np.array(str1)\n",
    "    str4 = np.array(str2)\n",
    "    addED = editdist(str3, str4, min_threshold = 0)\n",
    "    ED = np.append(ED, addED)\n",
    "        \n",
    "    EncodingItems.append(x)\n",
    "    EncodingItems.append(x)\n",
    "    EncodingItems.append(x)\n",
    "\n",
    "    value.append(PF)\n",
    "    value.append(addED)\n",
    "    value.append(intersect)\n",
    "\n",
    "    measure.append('PF')\n",
    "    measure.append('ED')\n",
    "    measure.append('Intersection')\n",
    "            \n",
    "    df = pd.DataFrame({'#EncodingItems':EncodingItems, 'value':value, 'measure':measure})\n",
    "df.to_csv('Similarity_Simulation2.csv')\n",
    "\n",
    "ax = sns.lineplot(x='#EncodingItems', y=value, hue=measure, data=df)\n",
    "#plt.xlabel(xlabel='# of Itmes')\n",
    "#plt.ylabel(ylabel='Similarity Measure Value')\n",
    "#ax.set_title('Increasing # of Uncommon Items with one Pair')\n",
    "\n",
    "ax.tick_params(direction='inout', which='both', length=5, width=1, colors='black', left=True, bottom=True)\n",
    "ax.set_ylabel('Similarity Measure Value', labelpad=10, fontweight='bold')\n",
    "ax.set_xlabel('# of Additional, Uncommon Items', labelpad=10, fontweight='bold')\n",
    "plt.legend(title='Similarity Measure', bbox_to_anchor=(0.97,0.91))\n",
    "\n",
    "plt.savefig('Similarity_Simulation2.png', dpi=600)"
   ]
  },
  {
   "cell_type": "markdown",
   "metadata": {},
   "source": [
    "### 3. Playing around with other simulations"
   ]
  },
  {
   "cell_type": "code",
   "execution_count": 8,
   "metadata": {},
   "outputs": [
    {
     "data": {
      "text/plain": [
       "Text(0.5, 1.0, 'Measures based on one pair and x recalled items')"
      ]
     },
     "execution_count": 8,
     "metadata": {},
     "output_type": "execute_result"
    },
    {
     "data": {
      "image/png": "[encoded data removed]",
      "text/plain": [
       "<Figure size 432x288 with 1 Axes>"
      ]
     },
     "metadata": {
      "needs_background": "light"
     },
     "output_type": "display_data"
    }
   ],
   "source": [
    "# 50% common, 50% different, no pairs\n",
    "PF = []\n",
    "ED = np.empty((0,1), int)\n",
    "EncodingItems = []\n",
    "value = []\n",
    "measure = []\n",
    "str1 = []\n",
    "str2 = []\n",
    "#print('ED', ED)\n",
    "numberOfwords = 51\n",
    "for x in range(numberOfwords):\n",
    "    #print('trial', x)\n",
    "    str1.append(x)\n",
    "    str2.append(51-x)\n",
    "    #print(str1, str2)\n",
    "    #PF.append(pairedFreq(str1, str2))\n",
    "    PF = (pairedFreq(str1, str2))\n",
    "    #print('PF', PF)\n",
    "    str3 = np.array(str1)\n",
    "    str4 = np.array(str2)\n",
    "    addED = editdist(str3, str4, min_threshold = 0)\n",
    "    #print('addED', addED)\n",
    "    ED = np.append(ED, addED)\n",
    "    #EncodingItems.append(x)\n",
    "    EncodingItems.append(x)\n",
    "    EncodingItems.append(x)\n",
    "    value.append(PF)\n",
    "    value.append(addED)\n",
    "    measure.append('PF')\n",
    "    measure.append('ED')\n",
    "    df = pd.DataFrame({'#EncodingItems':EncodingItems, 'value':value, 'measure':measure})\n",
    "\n",
    "ax = sns.lineplot(x='#EncodingItems', y=value, hue=measure, data=df)\n",
    "plt.xlabel(xlabel='Number of itmes')\n",
    "plt.ylabel(ylabel='Similarity Measure value')\n",
    "plt.legend(title='Similarity Measure', loc='upper left')\n",
    "ax.set_title('Measures based on one pair and x recalled items')"
   ]
  },
  {
   "cell_type": "code",
   "execution_count": 9,
   "metadata": {},
   "outputs": [],
   "source": [
    "# Other ideas\n",
    "# Create word lists with different number of words and same number of pairs (lineplot)\n",
    "# Create word lists with same number of words and different number of pairs (lineplot)\n",
    "# Create word lists with diferent number of words and different number of pairs (bargraph)"
   ]
  },
  {
   "cell_type": "code",
   "execution_count": null,
   "metadata": {},
   "outputs": [],
   "source": []
  }
 ],
 "metadata": {
  "kernelspec": {
   "display_name": "Python 3",
   "language": "python",
   "name": "python3"
  },
  "language_info": {
   "codemirror_mode": {
    "name": "ipython",
    "version": 3
   },
   "file_extension": ".py",
   "mimetype": "text/x-python",
   "name": "python",
   "nbconvert_exporter": "python",
   "pygments_lexer": "ipython3",
   "version": "3.7.4"
  }
 },
 "nbformat": 4,
 "nbformat_minor": 4
}
